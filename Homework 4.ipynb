{
 "cells": [
  {
   "cell_type": "code",
   "execution_count": null,
   "metadata": {},
   "outputs": [],
   "source": []
  },
  {
   "cell_type": "markdown",
   "metadata": {},
   "source": [
    "## What does one need to do to use a module?\n",
    "### We first need to import the respective module into our code-base. by using the import statement. \n",
    "\n",
    "## Name a Module (not the DateTime Nodule) we looked at and write a line or 2 of code as an example using this module.\n",
    "### Random module"
   ]
  },
  {
   "cell_type": "code",
   "execution_count": 55,
   "metadata": {},
   "outputs": [
    {
     "name": "stdout",
     "output_type": "stream",
     "text": [
      "Shuffled List ... ['C', 'A', 'B']\n"
     ]
    }
   ],
   "source": [
    "import random\n",
    "\n",
    "Alphabet = [\"A\", \"B\", \"C\"]\n",
    "random.shuffle(Alphabet)\n",
    "print(\"Shuffled List ...\", Alphabet)"
   ]
  },
  {
   "cell_type": "markdown",
   "metadata": {},
   "source": [
    "### What is a benefit of using Exception handling?\n",
    "#### Bypasses and exception so that the error message does not appear\n",
    "\n",
    "### What are the 4 components used for Python Exception Handling?\n",
    "#### `try`,`except`,`else`,`finally`\n",
    "\n",
    "### NumPy arrays are like what Python data type?\n",
    "#### List\n",
    "\n",
    "### What is one of the main benefits of using NumPy arrays.\n",
    "#### uses less memory\n",
    "\n",
    "### What is one of the main requirements about the 'dtype' of NumPy arrays?\n",
    "#### The array must be contain all the same data type\n",
    "\n",
    "### Of the 10 uses of NumPy, name 2.\n",
    "#### Statistical Operations, Mathematical Operations Broadcasting\n",
    "\n",
    "### Name one of the other libraries we'll use with NumPy?\n",
    "#### SciPy, Pandas,  Matplotlib\n",
    "\n",
    "### What is the shape of NumPy arrays?\n",
    "#### Specifies array shape by dimension (Ex: 3-D), length (rows) and size (columns)- A tuple of non-negative integers \n",
    "\n",
    "### What is a Tensor?\n",
    "#### an array with 3+ dimensions\n",
    "\n",
    "### Name a reason why it's better using NumPy for Data Analysis than using a Python List?\n",
    "#### NumPy arrays are faster and more effiecent \n",
    "\n",
    "### When creating an \"empty\" array, where do the elements come from?\n",
    "#### will fill in values based on memory\n"
   ]
  },
  {
   "cell_type": "code",
   "execution_count": null,
   "metadata": {},
   "outputs": [],
   "source": []
  },
  {
   "cell_type": "code",
   "execution_count": 56,
   "metadata": {},
   "outputs": [
    {
     "name": "stdout",
     "output_type": "stream",
     "text": [
      "Renting car is more affordable\n",
      "Renting a car is very expensive\n"
     ]
    }
   ],
   "source": [
    "###Create an if Statement: if 'age' is greater than or equal to 25, print \"Renting a car is more affordable\", however if 'age' is less than 25, print \"Renting a car is very expensive.\"\n",
    "\n",
    "age1 = 30\n",
    "age2 = 20\n",
    "if age1 >= 25:\n",
    "    print ('Renting car is more affordable')\n",
    "if age2 <25 :\n",
    "    print ('Renting a car is very expensive')\n",
    "\n"
   ]
  },
  {
   "cell_type": "code",
   "execution_count": 57,
   "metadata": {},
   "outputs": [
    {
     "name": "stdout",
     "output_type": "stream",
     "text": [
      "Renting a car is more affordable\n"
     ]
    }
   ],
   "source": [
    "###Create and chain an if-else  statement: if 'age' is greater than or equal to 25, print \"Renting a car is more affordable.\" If 'age' is less than 25 but greater than or equal to 18, print \"Renting a car is very expensive.\" Finally, if age is less than 18, print \"You cannot legally rent a car.\"\n",
    "\n",
    "age = int(input(\"Your age: \"))\n",
    "\n",
    "if age >= 25:\n",
    "    print(\"Renting a car is more affordable\")\n",
    "    if age >=18 and age <25:\n",
    "        print('Renting a car is very expensive')\n",
    "else: \n",
    "    print(\"You cannot legally rent a car\")"
   ]
  },
  {
   "cell_type": "code",
   "execution_count": 58,
   "metadata": {},
   "outputs": [
    {
     "name": "stdout",
     "output_type": "stream",
     "text": [
      "All characters = 43\n",
      "euioouoeeao"
     ]
    }
   ],
   "source": [
    "###Loop over the following string to (1) count all the characters in the string and (2) print out all the vowels -- \"The quick brown fox jumps over the lazy dog\n",
    "\n",
    "str = \"The quick brown fox jumps over the lazy dog\"\n",
    "count = len(str)\n",
    "\n",
    "for char in (str):\n",
    "    if str in \"The quick brown fox jumps over the lazy dog\":\n",
    "        print\n",
    "print (\"All characters =\", len(str))\n",
    "\n",
    "for str in \"The quick brown fox jumps over the lazy dog\":\n",
    "    if str in \"AEIOUaeiou\":\n",
    "        print(str,end=\"\")\n",
    "    else:\n",
    "        continue\n"
   ]
  },
  {
   "cell_type": "code",
   "execution_count": 59,
   "metadata": {},
   "outputs": [
    {
     "name": "stdout",
     "output_type": "stream",
     "text": [
      "trousers burnt sienna\n",
      "trousers aqua\n",
      "trousers fuchsia\n",
      "trousers cerise\n",
      "trousers Dark Sapphire\n",
      "trousers auburn\n",
      "trousers maple\n",
      "trousers gunmetal blue\n",
      "blouse burnt sienna\n",
      "blouse aqua\n",
      "blouse fuchsia\n",
      "blouse cerise\n",
      "blouse Dark Sapphire\n",
      "blouse auburn\n",
      "blouse maple\n",
      "blouse gunmetal blue\n",
      "bandana burnt sienna\n",
      "bandana aqua\n",
      "bandana fuchsia\n",
      "bandana cerise\n",
      "bandana Dark Sapphire\n",
      "bandana auburn\n",
      "bandana maple\n",
      "bandana gunmetal blue\n",
      "cumber band burnt sienna\n",
      "cumber band aqua\n",
      "cumber band fuchsia\n",
      "cumber band cerise\n",
      "cumber band Dark Sapphire\n",
      "cumber band auburn\n",
      "cumber band maple\n",
      "cumber band gunmetal blue\n",
      "blazer burnt sienna\n",
      "blazer aqua\n",
      "blazer fuchsia\n",
      "blazer cerise\n",
      "blazer Dark Sapphire\n",
      "blazer auburn\n",
      "blazer maple\n",
      "blazer gunmetal blue\n",
      "vest burnt sienna\n",
      "vest aqua\n",
      "vest fuchsia\n",
      "vest cerise\n",
      "vest Dark Sapphire\n",
      "vest auburn\n",
      "vest maple\n",
      "vest gunmetal blue\n",
      "french beret burnt sienna\n",
      "french beret aqua\n",
      "french beret fuchsia\n",
      "french beret cerise\n",
      "french beret Dark Sapphire\n",
      "french beret auburn\n",
      "french beret maple\n",
      "french beret gunmetal blue\n",
      "scarf burnt sienna\n",
      "scarf aqua\n",
      "scarf fuchsia\n",
      "scarf cerise\n",
      "scarf Dark Sapphire\n",
      "scarf auburn\n",
      "scarf maple\n",
      "scarf gunmetal blue\n",
      "stole burnt sienna\n",
      "stole aqua\n",
      "stole fuchsia\n",
      "stole cerise\n",
      "stole Dark Sapphire\n",
      "stole auburn\n",
      "stole maple\n",
      "stole gunmetal blue\n"
     ]
    }
   ],
   "source": [
    "###Write a nested loop that prints out every piece of clothing from the `couture` list, in every fashionable color from the `panettone` set: couture = [\"trousers\", \"blouse\", \"bandana\", \"cumber band\", \"blazer\", \"vest\", \"french beret\", \"scarf\", \"stole\"] and panettone = {\"cerise\", \"fuchsia\", \"aqua\", \"maple\", \"auburn\", \"burnt sienna\", \"gunmetal blue\", \"Dark Sapphire\"}\n",
    "#### couture = [\"trousers\", \"blouse\", \"bandana\", \"cumber band\", \"blazer\", \"vest\", \"french beret\", \"scarf\", \"stole\"] and panettone = {\"cerise\", \"fuchsia\", \"aqua\", \"maple\", \"auburn\", \"burnt sienna\", \"gunmetal blue\", \"Dark Sapphire\"}\n",
    "\n",
    "couture = [\"trousers\", \"blouse\", \"bandana\", \"cumber band\", \"blazer\", \"vest\", \"french beret\", \"scarf\", \"stole\"]\n",
    "panettone = {\"cerise\", \"fuchsia\", \"aqua\", \"maple\", \"auburn\", \"burnt sienna\", \"gunmetal blue\", \"Dark Sapphire\"}\n",
    "\n",
    "for x in couture:\n",
    "\tfor y in panettone:\n",
    "\t\tprint(x,y)  \n"
   ]
  },
  {
   "cell_type": "code",
   "execution_count": 60,
   "metadata": {},
   "outputs": [
    {
     "name": "stdout",
     "output_type": "stream",
     "text": [
      "1\n",
      "3\n",
      "6\n",
      "10\n",
      "15\n",
      "21\n",
      "28\n",
      "36\n",
      "45\n",
      "55\n",
      "66\n",
      "78\n",
      "91\n",
      "105\n",
      "120\n",
      "136\n",
      "153\n",
      "171\n",
      "190\n",
      "210\n",
      "231\n",
      "253\n",
      "276\n",
      "300\n",
      "325\n",
      "351\n",
      "378\n",
      "406\n",
      "435\n",
      "465\n",
      "496\n",
      "528\n",
      "561\n",
      "595\n",
      "630\n",
      "666\n",
      "703\n",
      "741\n",
      "780\n",
      "820\n",
      "861\n",
      "903\n",
      "946\n",
      "990\n",
      "1035\n",
      "1081\n",
      "1128\n",
      "1176\n",
      "1225\n",
      "1275\n",
      "1326\n",
      "1378\n",
      "1431\n",
      "1485\n",
      "1540\n",
      "1596\n",
      "1653\n",
      "1711\n",
      "1770\n",
      "1830\n",
      "1891\n",
      "1953\n",
      "2016\n",
      "2080\n",
      "2145\n",
      "2211\n",
      "2278\n",
      "2346\n",
      "2415\n",
      "2485\n",
      "2556\n",
      "2628\n",
      "2701\n",
      "2775\n",
      "2850\n",
      "2926\n",
      "3003\n",
      "3081\n",
      "3160\n",
      "3240\n",
      "3321\n",
      "3403\n",
      "3486\n",
      "3570\n",
      "3655\n",
      "3741\n",
      "3828\n",
      "3916\n",
      "4005\n",
      "4095\n",
      "4186\n",
      "4278\n",
      "4371\n",
      "4465\n",
      "4560\n",
      "4656\n",
      "4753\n",
      "4851\n",
      "4950\n"
     ]
    }
   ],
   "source": [
    "###Use range as a loop to calculate the sum of all the numbers from 1 to 100\n",
    "sum = 0\n",
    "\n",
    "for x in range(1,100):\n",
    "    sum += x\n",
    "    print(sum)"
   ]
  },
  {
   "cell_type": "code",
   "execution_count": 70,
   "metadata": {},
   "outputs": [
    {
     "name": "stdout",
     "output_type": "stream",
     "text": [
      "banana\n",
      "New fruit list is  =  ['apple', 'kiwi', 'cherry']\n",
      "['apple', 'kiwi', 'cherry', 'orange']\n",
      "['apple', 'lemon', 'kiwi', 'cherry', 'orange']\n"
     ]
    }
   ],
   "source": [
    "###Print the second item in this fruits list.\n",
    "a = [\"apple\", \"banana\", \"cherry\"]\n",
    "print(a[1])\n",
    "\n",
    "###Change the value from \"apple\" to \"kiwi\", in the fruits list.\n",
    "a[1] = \"kiwi\"\n",
    "print(\"New fruit list is  = \", a)\n",
    "\n",
    "###Use the append method to add \"orange\" to the fruits list.\n",
    "a.append(\"orange\")\n",
    "print(a)\n",
    "\n",
    "###Use the insert method to add \"lemon\" as the second item in the fruits list.\n",
    "\n",
    "a.insert(1,\"lemon\")\n",
    "print(a)\n"
   ]
  },
  {
   "cell_type": "code",
   "execution_count": 71,
   "metadata": {},
   "outputs": [
    {
     "name": "stdout",
     "output_type": "stream",
     "text": [
      "['apple', 'cherry']\n"
     ]
    }
   ],
   "source": [
    "\n",
    "###Use the remove method to remove \"banana\" from the fruits list.\n",
    "a1 = [\"apple\", \"banana\", \"cherry\"]\n",
    "a1.remove(\"banana\")\n",
    "print(a1)"
   ]
  },
  {
   "cell_type": "code",
   "execution_count": 75,
   "metadata": {},
   "outputs": [
    {
     "name": "stdout",
     "output_type": "stream",
     "text": [
      "['kiwi', 'melon']\n"
     ]
    }
   ],
   "source": [
    "###Use negative indexing to print the 3rd and 2nd to last items in the list.\n",
    "  ##  [\"apple\", \"banana\", \"cherry\", \"orange\", \"kiwi\", \"melon\", \"mango\"]\n",
    "\n",
    "a2 = [\"apple\", \"banana\", \"cherry\", \"orange\", \"kiwi\", \"melon\", \"mango\"]\n",
    "print(a2[-3:-1])"
   ]
  },
  {
   "cell_type": "code",
   "execution_count": 77,
   "metadata": {},
   "outputs": [
    {
     "name": "stdout",
     "output_type": "stream",
     "text": [
      "['cherry', 'orange', 'kiwi']\n"
     ]
    }
   ],
   "source": [
    "### fruitsList = [\"apple\", \"banana\", \"cherry\", \"orange\", \"kiwi\", \"melon\", \"mango\"]\n",
    "\n",
    "print(a2[2:5])\n"
   ]
  },
  {
   "cell_type": "code",
   "execution_count": 83,
   "metadata": {},
   "outputs": [
    {
     "name": "stdout",
     "output_type": "stream",
     "text": [
      "7\n"
     ]
    }
   ],
   "source": [
    "####Use the correct syntax to print the number of items in the list.\n",
    "a2 = [\"apple\", \"banana\", \"cherry\", \"orange\", \"kiwi\", \"melon\", \"mango\"]\n",
    "\n",
    "print(len(a2))\n"
   ]
  },
  {
   "cell_type": "code",
   "execution_count": 87,
   "metadata": {},
   "outputs": [
    {
     "name": "stdout",
     "output_type": "stream",
     "text": [
      "['orange', 'melon', 'mango', 'kiwi', 'cherry', 'banana', 'apple']\n"
     ]
    }
   ],
   "source": [
    "### Use the correct syntax to sort this list in reverse order\n",
    "a2 = [\"apple\", \"banana\", \"cherry\", \"orange\", \"kiwi\", \"melon\", \"mango\"]\n",
    "\n",
    "a2.sort(reverse = True)\n",
    "print(a2)\n",
    "\n"
   ]
  },
  {
   "cell_type": "code",
   "execution_count": 91,
   "metadata": {},
   "outputs": [
    {
     "name": "stdout",
     "output_type": "stream",
     "text": [
      "2023-08-21 20:41:41.971762\n"
     ]
    }
   ],
   "source": [
    "## Use the DateTime module to get Current Date and Time, and save it to a variable. Then extract just the Full month name form that variable.\n",
    "\n",
    "import datetime as dt\n",
    "\n",
    "Current_DateTime = dt.datetime.now()\n",
    "print(Current_DateTime)"
   ]
  },
  {
   "cell_type": "code",
   "execution_count": null,
   "metadata": {},
   "outputs": [],
   "source": [
    "# 16. Write a simple function that takes 2 parameters -- a  first name and a day name.\n",
    "#     - Set a default value for the day name of Sunday.\n",
    "#     - Have the function print out a greeting -- using the parameters -- that says something like \"Hi first-name! Happy day-name!\". Remember to use the variables in the greeting to replace first-name and day-name.  \n",
    "#     - Invoke this function with 2 variables.\n",
    "#     - Invoke this function with 1 variable only.\n",
    "\n",
    "def greeting(firstName,dayName = \"Sunday\"):\n",
    "    print(f\"Hi {firstName}! Happy {dayName}!\")\n",
    "    return \"\"\n",
    "\n"
   ]
  },
  {
   "cell_type": "code",
   "execution_count": 98,
   "metadata": {},
   "outputs": [
    {
     "name": "stdout",
     "output_type": "stream",
     "text": [
      "Andrew\n",
      "He will succeed\n",
      "He will do his best\n"
     ]
    }
   ],
   "source": [
    "#Write a block of code to handle one of the most common Python exception errors. Select one of the common errors from the curriculum section on Python Exception handling. Have your code example uses the `try`,`except`, `else`, and `finally` components.\n",
    "\n",
    "try: \n",
    "    print(\"Andrew\")\n",
    "except:\n",
    "    print(\"Will learn Python\")\n",
    "else:\n",
    "    print(\"He will succeed\")\n",
    "finally:\n",
    "    print(\"He will do his best\")"
   ]
  }
 ],
 "metadata": {
  "kernelspec": {
   "display_name": "Python 3",
   "language": "python",
   "name": "python3"
  },
  "language_info": {
   "codemirror_mode": {
    "name": "ipython",
    "version": 3
   },
   "file_extension": ".py",
   "mimetype": "text/x-python",
   "name": "python",
   "nbconvert_exporter": "python",
   "pygments_lexer": "ipython3",
   "version": "3.11.4"
  },
  "orig_nbformat": 4
 },
 "nbformat": 4,
 "nbformat_minor": 2
}
