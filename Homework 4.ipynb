{
 "cells": [
  {
   "cell_type": "code",
   "execution_count": null,
   "metadata": {},
   "outputs": [],
   "source": []
  },
  {
   "cell_type": "markdown",
   "metadata": {},
   "source": [
    "## What does one need to do to use a module?\n",
    "### We first need to import the respective module into our code-base. by using the import statement. \n",
    "\n",
    "## Name a Module (not the DateTime Nodule) we looked at and write a line or 2 of code as an example using this module.\n",
    "### Random module"
   ]
  },
  {
   "cell_type": "code",
   "execution_count": 7,
   "metadata": {},
   "outputs": [
    {
     "name": "stdout",
     "output_type": "stream",
     "text": [
      "Shuffled List ... ['C', 'A', 'B']\n"
     ]
    }
   ],
   "source": [
    "import random\n",
    "\n",
    "Alphabet = [\"A\", \"B\", \"C\"]\n",
    "random.shuffle(Alphabet)\n",
    "print(\"Shuffled List ...\", Alphabet)"
   ]
  },
  {
   "cell_type": "markdown",
   "metadata": {},
   "source": [
    "### What is a benefit of using Exception handling?\n",
    "#### Bypasses and exception so that the error message does not appear\n",
    "\n",
    "### What are the 4 components used for Python Exception Handling?\n",
    "#### `try`,`except`,`else`,`finally`\n",
    "\n",
    "### NumPy arrays are like what Python data type?\n",
    "#### List\n",
    "\n",
    "### What is one of the main benefits of using NumPy arrays.\n",
    "#### uses less memory\n",
    "\n",
    "### What is one of the main requirements about the 'dtype' of NumPy arrays?\n",
    "#### The array must be contain all the same data type\n",
    "\n",
    "### Of the 10 uses of NumPy, name 2.\n",
    "#### Statistical Operations, Mathematical Operations Broadcasting\n",
    "\n",
    "### Name one of the other libraries we'll use with NumPy?\n",
    "#### SciPy, Pandas,  Matplotlib\n",
    "\n",
    "### What is the shape of NumPy arrays?\n",
    "#### Specifies array shape by dimension (Ex: 3-D), length (rows) and size (columns)- A tuple of non-negative integers \n",
    "\n",
    "### What is a Tensor?\n",
    "#### an array with 3+ dimensions\n",
    "\n",
    "### Name a reason why it's better using NumPy for Data Analysis than using a Python List?\n",
    "#### NumPy arrays are faster and more effiecent \n",
    "\n",
    "### When creating an \"empty\" array, where do the elements come from?\n",
    "#### will fill in values based on memory\n"
   ]
  },
  {
   "cell_type": "code",
   "execution_count": null,
   "metadata": {},
   "outputs": [],
   "source": []
  },
  {
   "cell_type": "code",
   "execution_count": 10,
   "metadata": {},
   "outputs": [
    {
     "name": "stdout",
     "output_type": "stream",
     "text": [
      "Renting car is more affordable\n",
      "Renting a car is very expensive\n"
     ]
    }
   ],
   "source": [
    "###Create an if Statement: if 'age' is greater than or equal to 25, print \"Renting a car is more affordable\", however if 'age' is less than 25, print \"Renting a car is very expensive.\"\n",
    "\n",
    "age1 = 30\n",
    "age2 = 20\n",
    "if age1 >= 25:\n",
    "    print ('Renting car is more affordable')\n",
    "if age2 <25 :\n",
    "    print ('Renting a car is very expensive')\n",
    "\n"
   ]
  },
  {
   "cell_type": "code",
   "execution_count": 23,
   "metadata": {},
   "outputs": [
    {
     "name": "stdout",
     "output_type": "stream",
     "text": [
      "You cannot legally rent a car\n"
     ]
    }
   ],
   "source": [
    "###Create and chain an if-else  statement: if 'age' is greater than or equal to 25, print \"Renting a car is more affordable.\" If 'age' is less than 25 but greater than or equal to 18, print \"Renting a car is very expensive.\" Finally, if age is less than 18, print \"You cannot legally rent a car.\"\n",
    "\n",
    "age = int(input(\"Your age: \"))\n",
    "\n",
    "if age >= 25:\n",
    "    print(\"Renting a car is more affordable\")\n",
    "    if age >=18 and age <25:\n",
    "        print('Renting a car is very expensive')\n",
    "else: \n",
    "    print(\"You cannot legally rent a car\")"
   ]
  },
  {
   "cell_type": "code",
   "execution_count": 44,
   "metadata": {},
   "outputs": [
    {
     "name": "stdout",
     "output_type": "stream",
     "text": [
      "All characters = 43\n",
      "euioouoeeao"
     ]
    }
   ],
   "source": [
    "###Loop over the following string to (1) count all the characters in the string and (2) print out all the vowels -- \"The quick brown fox jumps over the lazy dog\n",
    "\n",
    "str = \"The quick brown fox jumps over the lazy dog\"\n",
    "count = len(str)\n",
    "\n",
    "for char in (str):\n",
    "    if str in \"The quick brown fox jumps over the lazy dog\":\n",
    "        print\n",
    "print (\"All characters =\", len(str))\n",
    "\n",
    "for str in \"The quick brown fox jumps over the lazy dog\":\n",
    "    if str in \"AEIOUaeiou\":\n",
    "        print(str,end=\"\")\n",
    "    else:\n",
    "        continue\n"
   ]
  },
  {
   "cell_type": "code",
   "execution_count": 45,
   "metadata": {},
   "outputs": [],
   "source": [
    "###Write a nested loop that prints out every piece of clothing from the `couture` list, in every fashionable color from the `panettone` set: couture = [\"trousers\", \"blouse\", \"bandana\", \"cumber band\", \"blazer\", \"vest\", \"french beret\", \"scarf\", \"stole\"] and panettone = {\"cerise\", \"fuchsia\", \"aqua\", \"maple\", \"auburn\", \"burnt sienna\", \"gunmetal blue\", \"Dark Sapphire\"}\n",
    "\n"
   ]
  }
 ],
 "metadata": {
  "kernelspec": {
   "display_name": "Python 3",
   "language": "python",
   "name": "python3"
  },
  "language_info": {
   "codemirror_mode": {
    "name": "ipython",
    "version": 3
   },
   "file_extension": ".py",
   "mimetype": "text/x-python",
   "name": "python",
   "nbconvert_exporter": "python",
   "pygments_lexer": "ipython3",
   "version": "3.11.4"
  },
  "orig_nbformat": 4
 },
 "nbformat": 4,
 "nbformat_minor": 2
}
