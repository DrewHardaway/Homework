{
 "cells": [
  {
   "cell_type": "code",
   "execution_count": null,
   "metadata": {},
   "outputs": [],
   "source": []
  },
  {
   "cell_type": "markdown",
   "metadata": {},
   "source": [
    "##### What is an algorithm? \n",
    "* A series of steps to solve a problem at hand\n",
    "\n",
    "##### Variable names may not start with certain characters - name two.\n",
    "* A number\n",
    "* A symbol other than a (_) or a letter. Example = &\n",
    "\n",
    "#### What is a Semantic error? Where the spelling is correct but the code doesn’t make sense\n",
    "* code is grammatically correct but doesn't make any sense; it does not produce the expected results\n",
    "\n",
    "#### What is the #1 rule of coding / debugging? \n",
    "* Complexity is the enemy of efficiency!\n",
    "\n",
    "#### List 5 Python reserved words.\n",
    "* and\n",
    "* continue\n",
    "* except\n",
    "* global\n",
    "* if"
   ]
  },
  {
   "cell_type": "markdown",
   "metadata": {},
   "source": [
    "\n",
    " #### Question 6\n",
    " ##### Write a multi-line comment with your name, favorite food, and dream job on 3 different lines\n"
   ]
  },
  {
   "cell_type": "code",
   "execution_count": 28,
   "metadata": {},
   "outputs": [],
   "source": [
    "# print('My name is Andrew Hardaway')\n",
    "# print('My favorite food is Hibachi')\n",
    "# print('My dream job would be working fo the NFL')"
   ]
  },
  {
   "cell_type": "code",
   "execution_count": 29,
   "metadata": {},
   "outputs": [
    {
     "name": "stdout",
     "output_type": "stream",
     "text": [
      "my first name is  Andrew\n",
      "Hibachi\n",
      "NFL\n"
     ]
    }
   ],
   "source": [
    "\n",
    "first_name = \"Andrew\"\n",
    "favorite_food = \"Hibachi\"\n",
    "dream_job = \"NFL\"\n",
    "\n",
    "print(\"my first name is \", (first_name))\n",
    "print(favorite_food)\n",
    "print(dream_job)"
   ]
  },
  {
   "cell_type": "markdown",
   "metadata": {},
   "source": [
    "#### Question 7\n",
    "##### Assign 5 different data types to 5 different variables. At least one datatype must be a string  \n",
    "    # - Print the length of your string\n",
    "    # - Print the index value of the 4th character in your string\n"
   ]
  },
  {
   "cell_type": "code",
   "execution_count": 30,
   "metadata": {},
   "outputs": [
    {
     "name": "stdout",
     "output_type": "stream",
     "text": [
      "The length of x is ... 17\n",
      "a\n"
     ]
    }
   ],
   "source": [
    "\n",
    "x = str(\"My name is Andrew\")\n",
    "i = int(42)\n",
    "mydict = {\"name\":\"Andrew\", \"age\" : 29}\n",
    "list1 = [\"efoil\", \"beach\", \"good weather\"]\n",
    "tup1 = (\"relax\",\"drink\", \"chill\")\n",
    "\n",
    "print (\"The length of x is ...\", len(x))\n",
    "print (x[4])\n",
    "\n"
   ]
  },
  {
   "cell_type": "markdown",
   "metadata": {},
   "source": [
    "#### Question 8\n",
    "#### # Create a new variable called savvy, and assign it the string with this phrase \"Learning Data Analytics and Python is Awesome!\"\n",
    "#### #     - Return a range of characters that slices the above string from the beginning of  \"ing\" up to before \"and\"\n",
    "#### #     - Replace \"Awesome\" with \"great\" in the string\n",
    "#### #     - Test and print the savvy string to see it contains \"Python\""
   ]
  },
  {
   "cell_type": "code",
   "execution_count": 31,
   "metadata": {},
   "outputs": [
    {
     "name": "stdout",
     "output_type": "stream",
     "text": [
      "ing Data Analytics \n",
      "Learning Data Analytics and Python is great!\n"
     ]
    }
   ],
   "source": [
    "\n",
    "\n",
    "Savvy = str(\"Learning Data Analytics and Python is Awesome!\")\n",
    "print(Savvy[5:24])\n",
    "newSavvy = Savvy.replace (\"Awesome\",\"great\")\n",
    "print(newSavvy)\n",
    "\n"
   ]
  },
  {
   "cell_type": "markdown",
   "metadata": {},
   "source": [
    "#### Question 9\n",
    "##### Create and assign 3 more variables called name, age and length using the multi-variable  naming method\n",
    "#####    - Format a new string called 'miniBio' using variables in curly brackets to complete this phrase... \"Hi my name is (name), I am (tall) and (so) old today.\"\n",
    "######      - Print 'miniBio'\n",
    "#####    - Cast and print the age variable to a float\n",
    "    "
   ]
  },
  {
   "cell_type": "code",
   "execution_count": 32,
   "metadata": {},
   "outputs": [
    {
     "name": "stdout",
     "output_type": "stream",
     "text": [
      "Hi, my name is Andrew Hardaway, I am 5ft 10in and I am 29 years old today.\n",
      "29.0\n",
      "Hello, my name is Andrew Hardaway, I am 5ft 10in and I am 29.0 old today\n"
     ]
    }
   ],
   "source": [
    "name = \"Andrew Hardaway\"\n",
    "age = \"29\"\n",
    "length = \"5ft 10in\"\n",
    "miniBio = \"Hi, my name is \" + name + \", I am \" + length + \" and I am \" + age + \" years old today.\"\n",
    "print(miniBio)\n",
    "\n",
    "age = float (29)\n",
    "print(age)\n",
    "\n",
    "\n",
    "print(f\"Hello, my name is {name}, I am {length} and I am {age} old today\")\n"
   ]
  },
  {
   "cell_type": "markdown",
   "metadata": {},
   "source": [
    "#### Question `10`\n",
    "##### Create a list of at least 5 elements of mixed data types\n",
    "#####    - Replace a part of it with something else\n",
    "#####    - Append or insert several more items to the list\n",
    "#####    - Find and print the length of the list\n",
    "#####    - Slice a sub-section of the 1st list, and save it to a different 2nd list\n",
    "#####    - Print the 2nd list\n",
    "#####    - Extend your original list with the 2nd list sliced above\n",
    "#####    - Create a new list called \"simList\" containing at least 5 elements of the same data type, either string, integer, float, or Boolean\n",
    "#####   - Sort \"simList\", and print the list\n",
    "#####    - Copy the \"simList\" list to another 3rd list\n",
    "#####    - Add the 2nd and 3rd lists together into a 4th list"
   ]
  },
  {
   "cell_type": "code",
   "execution_count": 41,
   "metadata": {},
   "outputs": [
    {
     "name": "stdout",
     "output_type": "stream",
     "text": [
      "['I love to', 42.2, {'this class', 'cool'}, [42, 45, 46], True, 'beginning']\n",
      "['I like to', 42.2, {'this class', 'cool'}, [42, 45, 46], True, 'beginning']\n",
      "['I like to', 42.2, {'this class', 'cool'}, [42, 45, 46], True, 'beginning', 'this is a new start']\n",
      "The length of this element is 7\n",
      "['I like to', 42.2]\n",
      "['I like to', 42.2, 'I like to', 42.2, {'this class', 'cool'}, [42, 45, 46], True, 'beginning', 'this is a new start']\n",
      "['1. hi', '2. I have a cat', '3. I need to learn', '4. this is nice', '5. I have a wife']\n",
      "['Andrew', 'Hardaway', '1. hi', '2. I have a cat', '3. I need to learn', '4. this is nice', '5. I have a wife']\n",
      "[['1. hi', '2. I have a cat', '3. I need to learn', '4. this is nice', '5. I have a wife'], ['Andrew', 'Hardaway', '1. hi', '2. I have a cat', '3. I need to learn', '4. this is nice', '5. I have a wife']]\n"
     ]
    }
   ],
   "source": [
    "element_list = [\"I love to\" , 42.2, {\"cool\", \"this class\"}, [42, 45, 46], True, \"beginning\"]\n",
    "print(element_list)\n",
    "\n",
    "element_list[0] = \"I like to\"\n",
    "print(element_list)\n",
    "element_list.append(\"this is a new start\")\n",
    "print(element_list)\n",
    "print(\"The length of this element is\" , len(element_list))\n",
    "\n",
    "newList = (element_list[0:2])\n",
    "print(newList)\n",
    "newList.extend(element_list)\n",
    "print(newList)\n",
    "\n",
    "\n",
    "simList = [\"1. hi\", \"4. this is nice\", \"3. I need to learn\", \"2. I have a cat\", \"5. I have a wife\"]\n",
    "simList.sort()\n",
    "print (simList)\n",
    "\n",
    "thirdList = [\"Andrew\", \"Hardaway\"] + simList.copy()\n",
    "print(thirdList)\n",
    "\n",
    "fourthList = [simList.copy(), thirdList.copy()]\n",
    "print(fourthList)\n",
    "\n",
    "\n",
    "\n",
    "\n"
   ]
  },
  {
   "cell_type": "markdown",
   "metadata": {},
   "source": [
    "#### 11. Create a tuple of about 5 elements\n",
    " #####   - Multiply your tuple by 3 and save it to a new 2nd tuple\n",
    " #####   - Access and print the 12th element from the 2nd tuple\n",
    " #####  - Sort the 2nd tuple and print it\n",
    " #####  - Copy 4 specific elements from your 2nd tuple to a new 3nd tuple\n",
    "  #####  - Unpack the 3rd tuple into 4 variables and print these variables\n",
    "  #####  - Create a 4th tuple with single item 50 and print this tuple\n",
    " ###   - Add the 2nd and 3rd tuple together into a 5th tuple and print the tuple"
   ]
  },
  {
   "cell_type": "code",
   "execution_count": 119,
   "metadata": {},
   "outputs": [
    {
     "name": "stdout",
     "output_type": "stream",
     "text": [
      "3\n",
      "['1', '1', '1', '2', '2', '2', '3', '3', '3', '4', '4', '4', '5', '5', '5']\n",
      "('2', '3', '4')\n",
      "\n",
      "Tuple packing...\n",
      "1 2= 2 3= 3\n",
      "(50,)\n",
      "('1', '2', '3', '4', '5', '1', '2', '3', '4', '5', '1', '2', '3', '4', '5', '2', '3', '4')\n"
     ]
    }
   ],
   "source": [
    "tuple1 = (\"1\",\"2\",\"3\",\"4\",\"5\")\n",
    "tuple2 = tuple1*3\n",
    "print(tuple2[12])\n",
    "print(sorted(tuple2))\n",
    "tuple3 = tuple2[1:4]\n",
    "print(tuple3)\n",
    "\n",
    "(a1,a2,a3,a4,a5) = tuple1\n",
    "\n",
    "print(\"\\nTuple packing...\")\n",
    "print( a1, \"2=\", a2, \"3=\", a3)\n",
    "\n",
    "# a1 = tuple3[0]\n",
    "# print(a1)\n",
    "# b2 = tuple3[1]\n",
    "# print(b2)\n",
    "# c3 = tuple3[2]\n",
    "# print(c3)\n",
    "# d4 = tuple3[2]\n",
    "# print(d4)\n",
    "# f5 = tuple3[1]\n",
    "# print(f5)\n",
    "tuple4 = (50,)\n",
    "print(tuple4)\n",
    "tuple5 = tuple2 + tuple3\n",
    "print(tuple5)\n",
    "\n"
   ]
  },
  {
   "cell_type": "code",
   "execution_count": 117,
   "metadata": {},
   "outputs": [
    {
     "name": "stdout",
     "output_type": "stream",
     "text": [
      "{'Pineapple', 'Wednesday', 'Apple', 'orange', 'Tuesday', 'Monday'}\n",
      "{'Right'}\n",
      "set()\n",
      "{'Pineapple', 'Wednesday', 'Left', 'Car', 'Right', 'Tuesday', 'Monday'}\n"
     ]
    }
   ],
   "source": [
    "#### Question 12\n",
    "##### Create a set of about 3 elements\n",
    "set1 = {\"Monday\", \"Tuesday\", \"Wednesday\"}\n",
    " ##### - Add a list of fruits to the above set and print the result\n",
    "listFruits = [\"Pineapple\", \"Apple\", \"orange\"]\n",
    "set1.update(listFruits)\n",
    "print(set1)\n",
    " ##### - Add a car element to your set\n",
    "set1.add(\"Car\")\n",
    " ##### - Create a 2nd set with a few odd items\n",
    "oddset = {\"Left\",\"Right\"}\n",
    " ##### - Save the union of 1st set and 2nd set to a 3rd set\n",
    "set3 = set1.union(oddset)\n",
    " #####    - Pop an element from the 2nd set, and print the remainder of the set\n",
    "oddset.pop()\n",
    "print(oddset)\n",
    " #####    - Clear the 1st set and print the result\n",
    "set1.clear()\n",
    "print(set1)\n",
    "#####    - Discard an element, and remove another element from the 3rd set\n",
    "set3.discard(\"orange\")\n",
    "set3.remove(\"Apple\")\n",
    "####   - Print the remainder of the 3rd set\n",
    "print(set3)\n"
   ]
  },
  {
   "cell_type": "markdown",
   "metadata": {},
   "source": [
    "#### Question 13\n",
    "\n",
    "#### Create a dictionary with at least 5 values of different data types\n",
    "  ####  - Print out 1 value\n",
    " ####   - Replace any one value in your dictionary with your name\n",
    " ####   - Add your favorite color to the dictionary\n",
    " ####   - Add a list, tuple or set to your dictionary\n",
    " ####   - Print a list of the dictionary keys\n",
    " ####   - Print a list of the dictionary values\n",
    " ####   - Copy your 1st dictionary into a 2nd dictionary\n",
    " ####   - Pop an item from the 2nd dictionary, and print the dictionary\n",
    "  ####  - Remove all the elements from the 2nd dictionary and print the result "
   ]
  },
  {
   "cell_type": "code",
   "execution_count": 118,
   "metadata": {},
   "outputs": [
    {
     "name": "stdout",
     "output_type": "stream",
     "text": [
      "['Efoil', 'Gaming']\n",
      "dict_keys(['name', 'age', 'favorite movie', 'hobbies', 'likes to dance', 'favorite color', 'Types of jobs'])\n",
      "dict_values(['Andrew', 30, 'Hitch', ['Efoil', 'Gaming'], True, 'Lavender', 'Data Anyalyst'])\n",
      "{'name': 'Andrew', 'age': 30, 'favorite movie': 'Hitch', 'hobbies': ['Efoil', 'Gaming'], 'likes to dance': True, 'favorite color': 'Lavender'}\n",
      "{}\n"
     ]
    }
   ],
   "source": [
    "dictA = {\n",
    "    \"name\":\"Jake\",\n",
    "    \"age\":30,\n",
    "    \"favorite movie\":\"Hitch\",\n",
    "    \"hobbies\":[\"Efoil\", \"Gaming\"],\n",
    "    \"likes to dance\":True\n",
    "    }\n",
    "print(dictA.get(\"hobbies\"))\n",
    "dictA.update({\"name\":\"Andrew\"})\n",
    "dictA.update({\"favorite color\":\"Lavender\"})\n",
    "dictA.update({\"Types of jobs\" : \"Data Anyalyst\",\n",
    "            })\n",
    "print(dictA.keys())\n",
    "print(dictA.values())\n",
    "dictB = dictA.copy()\n",
    "dictB.popitem()\n",
    "print(dictB)\n",
    "dictB.clear()\n",
    "print(dictB)"
   ]
  }
 ],
 "metadata": {
  "kernelspec": {
   "display_name": "Python 3",
   "language": "python",
   "name": "python3"
  },
  "language_info": {
   "codemirror_mode": {
    "name": "ipython",
    "version": 3
   },
   "file_extension": ".py",
   "mimetype": "text/x-python",
   "name": "python",
   "nbconvert_exporter": "python",
   "pygments_lexer": "ipython3",
   "version": "3.11.4"
  },
  "orig_nbformat": 4
 },
 "nbformat": 4,
 "nbformat_minor": 2
}
